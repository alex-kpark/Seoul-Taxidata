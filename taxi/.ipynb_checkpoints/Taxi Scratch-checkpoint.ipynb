{
 "cells": [
  {
   "cell_type": "code",
   "execution_count": 9,
   "metadata": {},
   "outputs": [],
   "source": [
    "import numpy as np\n",
    "import pandas as pd\n",
    "import matplotlib.pyplot as plt\n",
    "import seaborn as sns\n",
    "import json\n",
    "\n",
    "import requests\n",
    "\n",
    "#For Convenient usage of Matplotlib on Visualization\n",
    "plt.style.use('seaborn')\n",
    "sns.set(font_scale=2.5)\n",
    "\n",
    "#Library to find-out missed data\n",
    "import missingno as msno\n",
    "\n",
    "#Warning Control Library in python\n",
    "import warnings\n",
    "warnings.filterwarnings('ignore')\n",
    "\n",
    "%matplotlib inline"
   ]
  },
  {
   "cell_type": "markdown",
   "metadata": {},
   "source": [
    "![title](img/manual.png)\n",
    "![title](img/result.png)"
   ]
  },
  {
   "cell_type": "code",
   "execution_count": 58,
   "metadata": {},
   "outputs": [
    {
     "data": {
      "text/plain": [
       "[{'CNT_EMP': 0.0,\n",
       "  'CNT_OFF': 0.0,\n",
       "  'CNT_ON': 1.0,\n",
       "  'DAY': '1',\n",
       "  'DEST': '1120',\n",
       "  'LINK_ID': 'T_156511',\n",
       "  'TIME': '25',\n",
       "  'WEATHER': '1',\n",
       "  'X_PART': '127.0862890^127.0861067^127.0860469^127.0860522^',\n",
       "  'Y_PART': '37.5731926^37.5729649^37.5726380^37.5720175^'},\n",
       " {'CNT_EMP': 0.0,\n",
       "  'CNT_OFF': 0.0,\n",
       "  'CNT_ON': 8.0,\n",
       "  'DAY': '1',\n",
       "  'DEST': '1121',\n",
       "  'LINK_ID': 'T_156511',\n",
       "  'TIME': '25',\n",
       "  'WEATHER': '1',\n",
       "  'X_PART': '127.0862890^127.0861067^127.0860469^127.0860522^',\n",
       "  'Y_PART': '37.5731926^37.5729649^37.5726380^37.5720175^'},\n",
       " {'CNT_EMP': 0.0,\n",
       "  'CNT_OFF': 0.0,\n",
       "  'CNT_ON': 1.0,\n",
       "  'DAY': '1',\n",
       "  'DEST': '1171',\n",
       "  'LINK_ID': 'T_156511',\n",
       "  'TIME': '25',\n",
       "  'WEATHER': '1',\n",
       "  'X_PART': '127.0862890^127.0861067^127.0860469^127.0860522^',\n",
       "  'Y_PART': '37.5731926^37.5729649^37.5726380^37.5720175^'},\n",
       " {'CNT_EMP': 602.0,\n",
       "  'CNT_OFF': 2.0,\n",
       "  'CNT_ON': 0.0,\n",
       "  'DAY': '1',\n",
       "  'DEST': '',\n",
       "  'LINK_ID': 'T_156511',\n",
       "  'TIME': '25',\n",
       "  'WEATHER': '1',\n",
       "  'X_PART': '127.0862890^127.0861067^127.0860469^127.0860522^',\n",
       "  'Y_PART': '37.5731926^37.5729649^37.5726380^37.5720175^'},\n",
       " {'CNT_EMP': 0.0,\n",
       "  'CNT_OFF': 0.0,\n",
       "  'CNT_ON': 1.0,\n",
       "  'DAY': '1',\n",
       "  'DEST': '1111',\n",
       "  'LINK_ID': 'T_156516',\n",
       "  'TIME': '25',\n",
       "  'WEATHER': '1',\n",
       "  'X_PART': '127.0845311^127.0838387^',\n",
       "  'Y_PART': '37.5737553^37.5725477^'}]"
      ]
     },
     "execution_count": 58,
     "metadata": {},
     "output_type": "execute_result"
    }
   ],
   "source": [
    "#Read Dataset\n",
    "\n",
    "#json, \n",
    "api_form = 'http://openapi.seoul.go.kr:8088/656958454e6b6d6b38376376796c76/json/ListTaxiDrivingDataset/1/5/127.08515/37.57343/1/25/1/'\n",
    "\n",
    "response = requests.get(api_form)\n",
    "\n",
    "json_response = json.loads(response.text)\n",
    "taxi_data = json_response['ListTaxiDrivingDataset']['row'] #dict형태로 provided, 'row':[] list형태로 제공\n",
    "\n",
    "taxi_data\n"
   ]
  },
  {
   "cell_type": "code",
   "execution_count": null,
   "metadata": {},
   "outputs": [],
   "source": [
    "\n",
    "#specific data 추출\n",
    "x_coord = taxi_data[0]['X_PART'].split('^')\n",
    "y_coord = taxi_data[0]['Y_PART'].split('^')\n",
    "\n",
    "del x_coord[-1]\n",
    "del y_coord[-1]\n",
    "\n",
    "\n",
    "#x,y 좌표만 분리\n",
    "coordinate = []\n",
    "\n",
    "for i in range(0,4):\n",
    "    tmp_x = x_coord[i]\n",
    "    tmp_y = y_coord[i]\n",
    "    tmp_dict = {}\n",
    "    tmp_dict['x'] = tmp_x\n",
    "    tmp_dict['y'] = tmp_y\n",
    "    coordinate.append(tmp_dict)\n",
    "\n",
    "print(coordinate)"
   ]
  },
  {
   "cell_type": "markdown",
   "metadata": {},
   "source": [
    "### Read Geo Data with Python\n",
    "\n",
    "1) 서울시의 경계에 맞게 각 coordinate를 구분하기 --> 경계선 따라서 좌표 따기"
   ]
  },
  {
   "cell_type": "code",
   "execution_count": 59,
   "metadata": {},
   "outputs": [],
   "source": [
    "#https://hiseon.me/2018/07/07/shp-file-format/"
   ]
  },
  {
   "cell_type": "code",
   "execution_count": null,
   "metadata": {},
   "outputs": [],
   "source": []
  },
  {
   "cell_type": "code",
   "execution_count": null,
   "metadata": {},
   "outputs": [],
   "source": []
  },
  {
   "cell_type": "code",
   "execution_count": null,
   "metadata": {},
   "outputs": [],
   "source": []
  },
  {
   "cell_type": "code",
   "execution_count": null,
   "metadata": {},
   "outputs": [],
   "source": []
  },
  {
   "cell_type": "code",
   "execution_count": null,
   "metadata": {},
   "outputs": [],
   "source": []
  },
  {
   "cell_type": "code",
   "execution_count": null,
   "metadata": {},
   "outputs": [],
   "source": []
  }
 ],
 "metadata": {
  "kernelspec": {
   "display_name": "Python 3",
   "language": "python",
   "name": "python3"
  },
  "language_info": {
   "codemirror_mode": {
    "name": "ipython",
    "version": 3
   },
   "file_extension": ".py",
   "mimetype": "text/x-python",
   "name": "python",
   "nbconvert_exporter": "python",
   "pygments_lexer": "ipython3",
   "version": "3.6.3"
  }
 },
 "nbformat": 4,
 "nbformat_minor": 2
}
