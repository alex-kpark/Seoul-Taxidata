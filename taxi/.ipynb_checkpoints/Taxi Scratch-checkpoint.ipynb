{
 "cells": [
  {
   "cell_type": "code",
   "execution_count": 1,
   "metadata": {},
   "outputs": [],
   "source": [
    "import numpy as np\n",
    "import pandas as pd\n",
    "import matplotlib.pyplot as plt\n",
    "import seaborn as sns\n",
    "import json\n",
    "\n",
    "import requests\n",
    "\n",
    "#For Convenient usage of Matplotlib on Visualization\n",
    "plt.style.use('seaborn')\n",
    "sns.set(font_scale=2.5)\n",
    "\n",
    "#Library to find-out missed data\n",
    "import missingno as msno\n",
    "\n",
    "#Warning Control Library in python\n",
    "import warnings\n",
    "warnings.filterwarnings('ignore')\n",
    "\n",
    "%matplotlib inline"
   ]
  },
  {
   "cell_type": "markdown",
   "metadata": {},
   "source": [
    "![title](img/manual.png)\n",
    "![title](img/result.png)"
   ]
  },
  {
   "cell_type": "code",
   "execution_count": 2,
   "metadata": {},
   "outputs": [
    {
     "data": {
      "text/plain": [
       "[{'LINK_ID': 'T_156511',\n",
       "  'X_PART': '127.0862890^127.0861067^127.0860469^127.0860522^',\n",
       "  'Y_PART': '37.5731926^37.5729649^37.5726380^37.5720175^',\n",
       "  'DAY': '1',\n",
       "  'TIME': '25',\n",
       "  'WEATHER': '1',\n",
       "  'DEST': '1120',\n",
       "  'CNT_ON': 1.0,\n",
       "  'CNT_OFF': 0.0,\n",
       "  'CNT_EMP': 0.0},\n",
       " {'LINK_ID': 'T_156511',\n",
       "  'X_PART': '127.0862890^127.0861067^127.0860469^127.0860522^',\n",
       "  'Y_PART': '37.5731926^37.5729649^37.5726380^37.5720175^',\n",
       "  'DAY': '1',\n",
       "  'TIME': '25',\n",
       "  'WEATHER': '1',\n",
       "  'DEST': '1121',\n",
       "  'CNT_ON': 8.0,\n",
       "  'CNT_OFF': 0.0,\n",
       "  'CNT_EMP': 0.0},\n",
       " {'LINK_ID': 'T_156511',\n",
       "  'X_PART': '127.0862890^127.0861067^127.0860469^127.0860522^',\n",
       "  'Y_PART': '37.5731926^37.5729649^37.5726380^37.5720175^',\n",
       "  'DAY': '1',\n",
       "  'TIME': '25',\n",
       "  'WEATHER': '1',\n",
       "  'DEST': '1171',\n",
       "  'CNT_ON': 1.0,\n",
       "  'CNT_OFF': 0.0,\n",
       "  'CNT_EMP': 0.0},\n",
       " {'LINK_ID': 'T_156511',\n",
       "  'X_PART': '127.0862890^127.0861067^127.0860469^127.0860522^',\n",
       "  'Y_PART': '37.5731926^37.5729649^37.5726380^37.5720175^',\n",
       "  'DAY': '1',\n",
       "  'TIME': '25',\n",
       "  'WEATHER': '1',\n",
       "  'DEST': '',\n",
       "  'CNT_ON': 0.0,\n",
       "  'CNT_OFF': 2.0,\n",
       "  'CNT_EMP': 602.0},\n",
       " {'LINK_ID': 'T_156516',\n",
       "  'X_PART': '127.0845311^127.0838387^',\n",
       "  'Y_PART': '37.5737553^37.5725477^',\n",
       "  'DAY': '1',\n",
       "  'TIME': '25',\n",
       "  'WEATHER': '1',\n",
       "  'DEST': '1111',\n",
       "  'CNT_ON': 1.0,\n",
       "  'CNT_OFF': 0.0,\n",
       "  'CNT_EMP': 0.0}]"
      ]
     },
     "execution_count": 2,
     "metadata": {},
     "output_type": "execute_result"
    }
   ],
   "source": [
    "#Read Dataset\n",
    "\n",
    "#json, \n",
    "api_form = 'http://openapi.seoul.go.kr:8088/656958454e6b6d6b38376376796c76/json/ListTaxiDrivingDataset/1/5/127.08515/37.57343/1/25/1/'\n",
    "\n",
    "response = requests.get(api_form)\n",
    "\n",
    "json_response = json.loads(response.text)\n",
    "taxi_data = json_response['ListTaxiDrivingDataset']['row'] #dict형태로 provided, 'row':[] list형태로 제공\n",
    "\n",
    "taxi_data\n"
   ]
  },
  {
   "cell_type": "code",
   "execution_count": 3,
   "metadata": {},
   "outputs": [
    {
     "name": "stdout",
     "output_type": "stream",
     "text": [
      "[{'x': '127.0862890', 'y': '37.5731926'}, {'x': '127.0861067', 'y': '37.5729649'}, {'x': '127.0860469', 'y': '37.5726380'}, {'x': '127.0860522', 'y': '37.5720175'}]\n"
     ]
    }
   ],
   "source": [
    "\n",
    "#specific data 추출\n",
    "x_coord = taxi_data[0]['X_PART'].split('^')\n",
    "y_coord = taxi_data[0]['Y_PART'].split('^')\n",
    "\n",
    "del x_coord[-1]\n",
    "del y_coord[-1]\n",
    "\n",
    "\n",
    "#x,y 좌표만 분리\n",
    "coordinate = []\n",
    "\n",
    "for i in range(0,4):\n",
    "    tmp_x = x_coord[i]\n",
    "    tmp_y = y_coord[i]\n",
    "    tmp_dict = {}\n",
    "    tmp_dict['x'] = tmp_x\n",
    "    tmp_dict['y'] = tmp_y\n",
    "    coordinate.append(tmp_dict)\n",
    "\n",
    "print(coordinate)"
   ]
  },
  {
   "cell_type": "markdown",
   "metadata": {},
   "source": [
    "### Read Geo Data with Python\n",
    "\n",
    "1) 서울시의 경계에 맞게 각 coordinate를 구분하기 --> 경계선 따라서 좌표 따기\n",
    ": 경계선의 coordinate를 따면, Taxi들의 좌표값에 맞게 Spatial Analysis를 진행할 수 있음"
   ]
  },
  {
   "cell_type": "code",
   "execution_count": 4,
   "metadata": {},
   "outputs": [],
   "source": [
    "#https://hiseon.me/2018/07/07/shp-file-format/\n",
    "#https://junpyopark.github.io/road-network-construction-1/"
   ]
  },
  {
   "cell_type": "code",
   "execution_count": 12,
   "metadata": {},
   "outputs": [],
   "source": [
    "import shapefile #pip install shapefile\n",
    "#from pyproj import Proj, transform #pip install pyproj\n"
   ]
  },
  {
   "cell_type": "code",
   "execution_count": 22,
   "metadata": {},
   "outputs": [],
   "source": [
    "#pip install geojson\n",
    "#pip install folium\n",
    "\n",
    "#https://snscrawler.wordpress.com/tag/folium/\n",
    "\n",
    "import folium\n",
    "\n",
    "#37.566345, 126.977893을 중심으로 한 Map생성 방법\n",
    "map_osm = folium.Map(location=[37.566345, 126.977893], zoom_start=17) #zoom_start : 몇 번 확대할 것인지\n",
    "map_osm.save('./map1.html')"
   ]
  },
  {
   "cell_type": "code",
   "execution_count": 23,
   "metadata": {},
   "outputs": [],
   "source": [
    "import json\n",
    "map_osm = folium.Map(location=[37.566345, 126.977893])\n",
    "rfile = open('./seoul_municipal.json','r',encoding='utf-8').read()\n",
    "jsonData = json.loads(rfile)\n",
    "folium.GeoJson(jsonData, name='json_data').add_to(map_osm)\n",
    "map_osm.save('./municipal.html')\n",
    "\n",
    "#Result : municipal.html --> 지도 위에 행정구역 구분해놓은 정도 ==> 아직 Coordinate까지는 찾지 못함"
   ]
  },
  {
   "cell_type": "markdown",
   "metadata": {},
   "source": [
    "### Read Data in Time-Series Form"
   ]
  },
  {
   "cell_type": "code",
   "execution_count": null,
   "metadata": {},
   "outputs": [],
   "source": []
  },
  {
   "cell_type": "code",
   "execution_count": null,
   "metadata": {},
   "outputs": [],
   "source": []
  },
  {
   "cell_type": "code",
   "execution_count": null,
   "metadata": {},
   "outputs": [],
   "source": []
  },
  {
   "cell_type": "code",
   "execution_count": null,
   "metadata": {},
   "outputs": [],
   "source": []
  }
 ],
 "metadata": {
  "kernelspec": {
   "display_name": "Python 3",
   "language": "python",
   "name": "python3"
  },
  "language_info": {
   "codemirror_mode": {
    "name": "ipython",
    "version": 3
   },
   "file_extension": ".py",
   "mimetype": "text/x-python",
   "name": "python",
   "nbconvert_exporter": "python",
   "pygments_lexer": "ipython3",
   "version": "3.6.6"
  }
 },
 "nbformat": 4,
 "nbformat_minor": 2
}
