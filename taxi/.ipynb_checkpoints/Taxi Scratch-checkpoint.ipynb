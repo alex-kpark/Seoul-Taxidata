{
 "cells": [
  {
   "cell_type": "code",
   "execution_count": 9,
   "metadata": {},
   "outputs": [],
   "source": [
    "import numpy as np\n",
    "import pandas as pd\n",
    "import matplotlib.pyplot as plt\n",
    "import seaborn as sns\n",
    "import json\n",
    "\n",
    "import requests\n",
    "\n",
    "#For Convenient usage of Matplotlib on Visualization\n",
    "plt.style.use('seaborn')\n",
    "sns.set(font_scale=2.5)\n",
    "\n",
    "#Library to find-out missed data\n",
    "import missingno as msno\n",
    "\n",
    "#Warning Control Library in python\n",
    "import warnings\n",
    "warnings.filterwarnings('ignore')\n",
    "\n",
    "%matplotlib inline"
   ]
  },
  {
   "cell_type": "markdown",
   "metadata": {},
   "source": [
    "![title](img/manual.png)\n",
    "![title](img/result.png)"
   ]
  },
  {
   "cell_type": "code",
   "execution_count": 38,
   "metadata": {},
   "outputs": [
    {
     "name": "stdout",
     "output_type": "stream",
     "text": [
      "['127.0862890', '127.0861067', '127.0860469', '127.0860522', '']\n",
      "<class 'str'>\n"
     ]
    }
   ],
   "source": [
    "#Read Dataset\n",
    "\n",
    "#json, \n",
    "api_form = 'http://openapi.seoul.go.kr:8088/656958454e6b6d6b38376376796c76/json/ListTaxiDrivingDataset/1/5/127.08515/37.57343/1/25/1/'\n",
    "\n",
    "response = requests.get(api_form)\n",
    "\n",
    "json_response = json.loads(response.text)\n",
    "taxi_data = json_response['ListTaxiDrivingDataset']['row'] #dict형태로 provided, 'row':[] list형태로 제공\n",
    "\n",
    "#specific data\n",
    "x_data = taxi_data[0]['X_PART']\n",
    "y_data = taxi_data[0]['Y_PART']\n",
    "\n",
    "temp_x = x_data.split('^')\n",
    "temp_y = y_data.split('^')\n",
    "\n"
   ]
  },
  {
   "cell_type": "code",
   "execution_count": null,
   "metadata": {},
   "outputs": [],
   "source": [
    "\n"
   ]
  }
 ],
 "metadata": {
  "kernelspec": {
   "display_name": "Python 3",
   "language": "python",
   "name": "python3"
  },
  "language_info": {
   "codemirror_mode": {
    "name": "ipython",
    "version": 3
   },
   "file_extension": ".py",
   "mimetype": "text/x-python",
   "name": "python",
   "nbconvert_exporter": "python",
   "pygments_lexer": "ipython3",
   "version": "3.6.3"
  }
 },
 "nbformat": 4,
 "nbformat_minor": 2
}
