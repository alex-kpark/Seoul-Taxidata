{
 "cells": [
  {
   "cell_type": "code",
   "execution_count": 8,
   "metadata": {},
   "outputs": [],
   "source": [
    "import numpy as np\n",
    "import pandas as pd\n",
    "import matplotlib.pyplot as plt\n",
    "import seaborn as sns\n",
    "\n",
    "import requests\n",
    "\n",
    "#For Convenient usage of Matplotlib on Visualization\n",
    "plt.style.use('seaborn')\n",
    "sns.set(font_scale=2.5)\n",
    "\n",
    "#Library to find-out missed data\n",
    "import missingno as msno\n",
    "\n",
    "#Warning Control Library in python\n",
    "import warnings\n",
    "warnings.filterwarnings('ignore')\n",
    "\n",
    "%matplotlib inline"
   ]
  },
  {
   "cell_type": "markdown",
   "metadata": {},
   "source": [
    "![title](manual.png)"
   ]
  },
  {
   "cell_type": "code",
   "execution_count": 9,
   "metadata": {},
   "outputs": [
    {
     "name": "stdout",
     "output_type": "stream",
     "text": [
      "200\n"
     ]
    },
    {
     "data": {
      "text/plain": [
       "'{\"ListTaxiDrivingDataset\":{\"list_total_count\":39,\"RESULT\":{\"CODE\":\"INFO-000\",\"MESSAGE\":\"정상 처리되었습니다\"},\"row\":[{\"LINK_ID\":\"T_156511\",\"X_PART\":\"127.0862890^127.0861067^127.0860469^127.0860522^\",\"Y_PART\":\"37.5731926^37.5729649^37.5726380^37.5720175^\",\"DAY\":\"1\",\"TIME\":\"25\",\"WEATHER\":\"1\",\"DEST\":\"1120\",\"CNT_ON\":1.0,\"CNT_OFF\":0.0,\"CNT_EMP\":0.0},{\"LINK_ID\":\"T_156511\",\"X_PART\":\"127.0862890^127.0861067^127.0860469^127.0860522^\",\"Y_PART\":\"37.5731926^37.5729649^37.5726380^37.5720175^\",\"DAY\":\"1\",\"TIME\":\"25\",\"WEATHER\":\"1\",\"DEST\":\"1121\",\"CNT_ON\":8.0,\"CNT_OFF\":0.0,\"CNT_EMP\":0.0},{\"LINK_ID\":\"T_156511\",\"X_PART\":\"127.0862890^127.0861067^127.0860469^127.0860522^\",\"Y_PART\":\"37.5731926^37.5729649^37.5726380^37.5720175^\",\"DAY\":\"1\",\"TIME\":\"25\",\"WEATHER\":\"1\",\"DEST\":\"1171\",\"CNT_ON\":1.0,\"CNT_OFF\":0.0,\"CNT_EMP\":0.0},{\"LINK_ID\":\"T_156511\",\"X_PART\":\"127.0862890^127.0861067^127.0860469^127.0860522^\",\"Y_PART\":\"37.5731926^37.5729649^37.5726380^37.5720175^\",\"DAY\":\"1\",\"TIME\":\"25\",\"WEATHER\":\"1\",\"DEST\":\"\",\"CNT_ON\":0.0,\"CNT_OFF\":2.0,\"CNT_EMP\":602.0},{\"LINK_ID\":\"T_156516\",\"X_PART\":\"127.0845311^127.0838387^\",\"Y_PART\":\"37.5737553^37.5725477^\",\"DAY\":\"1\",\"TIME\":\"25\",\"WEATHER\":\"1\",\"DEST\":\"1111\",\"CNT_ON\":1.0,\"CNT_OFF\":0.0,\"CNT_EMP\":0.0}]}}'"
      ]
     },
     "execution_count": 9,
     "metadata": {},
     "output_type": "execute_result"
    }
   ],
   "source": [
    "#Read Dataset\n",
    "\n",
    "#json, \n",
    "api_form = 'http://openapi.seoul.go.kr:8088/656958454e6b6d6b38376376796c76/json/ListTaxiDrivingDataset/1/5/127.08515/37.57343/1/25/1/'\n",
    "\n",
    "response = requests.get(api_form)\n",
    "print(response.status_code)\n",
    "response.text"
   ]
  },
  {
   "cell_type": "code",
   "execution_count": null,
   "metadata": {},
   "outputs": [],
   "source": []
  }
 ],
 "metadata": {
  "kernelspec": {
   "display_name": "Python 3",
   "language": "python",
   "name": "python3"
  },
  "language_info": {
   "codemirror_mode": {
    "name": "ipython",
    "version": 3
   },
   "file_extension": ".py",
   "mimetype": "text/x-python",
   "name": "python",
   "nbconvert_exporter": "python",
   "pygments_lexer": "ipython3",
   "version": "3.6.3"
  }
 },
 "nbformat": 4,
 "nbformat_minor": 2
}
